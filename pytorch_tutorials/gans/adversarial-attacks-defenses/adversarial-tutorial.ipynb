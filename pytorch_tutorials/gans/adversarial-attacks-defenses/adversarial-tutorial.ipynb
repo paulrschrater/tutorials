{
 "cells": [
  {
   "cell_type": "code",
   "execution_count": 1,
   "metadata": {},
   "outputs": [],
   "source": [
    "import tensorflow as tf\n",
    "\n",
    "from tensorflow.keras.datasets import mnist, cifar10, cifar100\n",
    "\n",
    "from tensorflow.keras import Sequential\n",
    "from tensorflow.keras.callbacks import LambdaCallback\n",
    "from tensorflow.keras.layers import Conv2D, MaxPooling2D, Dropout, Dense, Flatten, Activation\n",
    "\n",
    "import numpy as np\n",
    "import random\n",
    "\n",
    "import matplotlib.pyplot as plt"
   ]
  },
  {
   "cell_type": "code",
   "execution_count": 2,
   "metadata": {},
   "outputs": [
    {
     "data": {
      "text/plain": [
       "'2.0.0-rc1'"
      ]
     },
     "execution_count": 2,
     "metadata": {},
     "output_type": "execute_result"
    }
   ],
   "source": [
    "# This should print something along the lines of '2.0.0-rc1'\n",
    "tf.__version__"
   ]
  },
  {
   "cell_type": "code",
   "execution_count": 3,
   "metadata": {},
   "outputs": [],
   "source": [
    "(x_train, y_train), (x_test, y_test) = mnist.load_data()"
   ]
  },
  {
   "cell_type": "code",
   "execution_count": 4,
   "metadata": {},
   "outputs": [],
   "source": [
    "# Cifar100\n",
    "# labels = ['apple', 'aquarium_fish', 'baby', 'bear', 'beaver', 'bed', 'bee', 'beetle',\n",
    "#                 'bicycle', 'bottle', 'bowl', 'boy', 'bridge', 'bus', 'butterfly', 'camel',\n",
    "#                 'can', 'castle', 'caterpillar', 'cattle', 'chair', 'chimpanzee', 'clock',\n",
    "#                 'cloud', 'cockroach', 'couch', 'crab', 'crocodile', 'cup', 'dinosaur',\n",
    "#                 'dolphin', 'elephant', 'flatfish', 'forest', 'fox', 'girl', 'hamster',\n",
    "#                 'house', 'kangaroo', 'keyboard', 'lamp', 'lawn_mower', 'leopard', 'lion',\n",
    "#                 'lizard', 'lobster', 'man', 'maple_tree', 'motorcycle', 'mountain', 'mouse',\n",
    "#                 'mushroom', 'oak_tree', 'orange', 'orchid', 'otter', 'palm_tree', 'pear',\n",
    "#                 'pickup_truck', 'pine_tree', 'plain', 'plate', 'poppy', 'porcupine',\n",
    "#                 'possum', 'rabbit', 'raccoon', 'ray', 'road', 'rocket', 'rose',\n",
    "#                 'sea', 'seal', 'shark', 'shrew', 'skunk', 'skyscraper', 'snail', 'snake',\n",
    "#                 'spider', 'squirrel', 'streetcar', 'sunflower', 'sweet_pepper', 'table',\n",
    "#                 'tank', 'telephone', 'television', 'tiger', 'tractor', 'train', 'trout',\n",
    "#                 'tulip', 'turtle', 'wardrobe', 'whale', 'willow_tree', 'wolf', 'woman',\n",
    "#                 'worm']\n",
    "\n",
    "# Cifar10\n",
    "# labels = ['airplane', 'automobile', 'bird', 'cat', 'deer', 'dog', 'frog', 'horse', 'ship', 'truck']\n",
    "\n",
    "# MNIST\n",
    "labels = ['zero', 'one', 'two', 'three', 'four', 'five', 'six', 'seven', 'eight', 'nine']"
   ]
  },
  {
   "cell_type": "code",
   "execution_count": 5,
   "metadata": {},
   "outputs": [
    {
     "name": "stdout",
     "output_type": "stream",
     "text": [
      "Data shapes (10000, 28, 28, 1) (10000, 10) (60000, 28, 28, 1) (60000, 10)\n"
     ]
    }
   ],
   "source": [
    "# Pre-process data\n",
    "img_rows, img_cols, channels = 28, 28, 1 # 32, 32, 3\n",
    "num_classes = 10\n",
    "\n",
    "x_train = x_train / 255\n",
    "x_test = x_test / 255\n",
    "\n",
    "x_train = x_train.reshape((-1, img_rows, img_cols, channels))\n",
    "x_test = x_test.reshape((-1, img_rows, img_cols, channels))\n",
    "\n",
    "y_train = tf.keras.utils.to_categorical(y_train, num_classes)\n",
    "y_test = tf.keras.utils.to_categorical(y_test, num_classes)\n",
    "\n",
    "print(\"Data shapes\", x_test.shape, y_test.shape, x_train.shape, y_train.shape)"
   ]
  },
  {
   "cell_type": "code",
   "execution_count": 6,
   "metadata": {},
   "outputs": [],
   "source": [
    "# Create model\n",
    "def create_model():\n",
    "    model = Sequential()\n",
    "    model.add(Conv2D(32, kernel_size=(3, 3), strides=(3, 3), padding='same', activation='relu', input_shape=(img_rows, img_cols, channels)))\n",
    "    model.add(Conv2D(64, kernel_size=(3, 3), strides=(3, 3), padding='same', activation='relu'))\n",
    "    model.add(Conv2D(64, kernel_size=(3, 3), strides=(3, 3), padding='same', activation='relu'))\n",
    "    model.add(MaxPooling2D(pool_size=(2, 2)))\n",
    "    model.add(Dropout(0.2))\n",
    "    model.add(Flatten())\n",
    "    model.add(Dense(32))\n",
    "    model.add(Dropout(0.2))\n",
    "    model.add(Dense(32))\n",
    "    model.add(Dropout(0.2))\n",
    "    model.add(Dense(num_classes, activation='softmax'))\n",
    "\n",
    "    model.compile(optimizer='adam', loss='mse', metrics=['accuracy'])\n",
    "    \n",
    "    return model"
   ]
  },
  {
   "cell_type": "code",
   "execution_count": 7,
   "metadata": {
    "scrolled": false
   },
   "outputs": [
    {
     "name": "stdout",
     "output_type": "stream",
     "text": [
      "Model: \"sequential\"\n",
      "_________________________________________________________________\n",
      "Layer (type)                 Output Shape              Param #   \n",
      "=================================================================\n",
      "conv2d (Conv2D)              (None, 10, 10, 32)        320       \n",
      "_________________________________________________________________\n",
      "conv2d_1 (Conv2D)            (None, 4, 4, 64)          18496     \n",
      "_________________________________________________________________\n",
      "conv2d_2 (Conv2D)            (None, 2, 2, 64)          36928     \n",
      "_________________________________________________________________\n",
      "max_pooling2d (MaxPooling2D) (None, 1, 1, 64)          0         \n",
      "_________________________________________________________________\n",
      "dropout (Dropout)            (None, 1, 1, 64)          0         \n",
      "_________________________________________________________________\n",
      "flatten (Flatten)            (None, 64)                0         \n",
      "_________________________________________________________________\n",
      "dense (Dense)                (None, 32)                2080      \n",
      "_________________________________________________________________\n",
      "dropout_1 (Dropout)          (None, 32)                0         \n",
      "_________________________________________________________________\n",
      "dense_1 (Dense)              (None, 32)                1056      \n",
      "_________________________________________________________________\n",
      "dropout_2 (Dropout)          (None, 32)                0         \n",
      "_________________________________________________________________\n",
      "dense_2 (Dense)              (None, 10)                330       \n",
      "=================================================================\n",
      "Total params: 59,210\n",
      "Trainable params: 59,210\n",
      "Non-trainable params: 0\n",
      "_________________________________________________________________\n"
     ]
    }
   ],
   "source": [
    "# Create and fit model\n",
    "model = create_model()\n",
    "model.summary()"
   ]
  },
  {
   "cell_type": "code",
   "execution_count": 8,
   "metadata": {},
   "outputs": [
    {
     "name": "stdout",
     "output_type": "stream",
     "text": [
      "Train on 60000 samples, validate on 10000 samples\n",
      "Epoch 1/20\n",
      "60000/60000 [==============================] - 5s 77us/sample - loss: 0.0192 - accuracy: 0.8667 - val_loss: 0.0063 - val_accuracy: 0.9578\n",
      "Epoch 2/20\n",
      "60000/60000 [==============================] - 4s 70us/sample - loss: 0.0089 - accuracy: 0.9427 - val_loss: 0.0047 - val_accuracy: 0.9697\n",
      "Epoch 3/20\n",
      "60000/60000 [==============================] - 4s 70us/sample - loss: 0.0073 - accuracy: 0.9524 - val_loss: 0.0043 - val_accuracy: 0.9710\n",
      "Epoch 4/20\n",
      "60000/60000 [==============================] - 4s 70us/sample - loss: 0.0062 - accuracy: 0.9599 - val_loss: 0.0037 - val_accuracy: 0.9767\n",
      "Epoch 5/20\n",
      "60000/60000 [==============================] - 4s 70us/sample - loss: 0.0057 - accuracy: 0.9637 - val_loss: 0.0042 - val_accuracy: 0.9732\n",
      "Epoch 6/20\n",
      "60000/60000 [==============================] - 4s 70us/sample - loss: 0.0052 - accuracy: 0.9673 - val_loss: 0.0035 - val_accuracy: 0.9772\n",
      "Epoch 7/20\n",
      "60000/60000 [==============================] - 4s 70us/sample - loss: 0.0049 - accuracy: 0.9689 - val_loss: 0.0035 - val_accuracy: 0.9779\n",
      "Epoch 8/20\n",
      "60000/60000 [==============================] - 4s 72us/sample - loss: 0.0048 - accuracy: 0.9701 - val_loss: 0.0033 - val_accuracy: 0.9791\n",
      "Epoch 9/20\n",
      "60000/60000 [==============================] - 4s 70us/sample - loss: 0.0043 - accuracy: 0.9723 - val_loss: 0.0037 - val_accuracy: 0.9770\n",
      "Epoch 10/20\n",
      "60000/60000 [==============================] - 4s 71us/sample - loss: 0.0041 - accuracy: 0.9746 - val_loss: 0.0033 - val_accuracy: 0.9797\n",
      "Epoch 11/20\n",
      "60000/60000 [==============================] - 4s 70us/sample - loss: 0.0039 - accuracy: 0.9758 - val_loss: 0.0032 - val_accuracy: 0.9794\n",
      "Epoch 12/20\n",
      "60000/60000 [==============================] - 4s 69us/sample - loss: 0.0038 - accuracy: 0.9759 - val_loss: 0.0031 - val_accuracy: 0.9812\n",
      "Epoch 13/20\n",
      "60000/60000 [==============================] - 4s 70us/sample - loss: 0.0038 - accuracy: 0.9757 - val_loss: 0.0037 - val_accuracy: 0.9773\n",
      "Epoch 14/20\n",
      "60000/60000 [==============================] - 4s 72us/sample - loss: 0.0034 - accuracy: 0.9783 - val_loss: 0.0030 - val_accuracy: 0.9814\n",
      "Epoch 15/20\n",
      "60000/60000 [==============================] - 4s 69us/sample - loss: 0.0035 - accuracy: 0.9782 - val_loss: 0.0031 - val_accuracy: 0.9808\n",
      "Epoch 16/20\n",
      "60000/60000 [==============================] - 4s 69us/sample - loss: 0.0033 - accuracy: 0.9792 - val_loss: 0.0031 - val_accuracy: 0.9813\n",
      "Epoch 17/20\n",
      "60000/60000 [==============================] - 4s 68us/sample - loss: 0.0032 - accuracy: 0.9803 - val_loss: 0.0030 - val_accuracy: 0.9820\n",
      "Epoch 18/20\n",
      "60000/60000 [==============================] - 4s 70us/sample - loss: 0.0033 - accuracy: 0.9797 - val_loss: 0.0033 - val_accuracy: 0.9796\n",
      "Epoch 19/20\n",
      "60000/60000 [==============================] - 4s 69us/sample - loss: 0.0030 - accuracy: 0.9811 - val_loss: 0.0031 - val_accuracy: 0.9811\n",
      "Epoch 20/20\n",
      "60000/60000 [==============================] - 4s 69us/sample - loss: 0.0031 - accuracy: 0.9807 - val_loss: 0.0030 - val_accuracy: 0.9823\n"
     ]
    },
    {
     "data": {
      "text/plain": [
       "<tensorflow.python.keras.callbacks.History at 0x7f90904cada0>"
      ]
     },
     "execution_count": 8,
     "metadata": {},
     "output_type": "execute_result"
    }
   ],
   "source": [
    "model.fit(x_train, y_train,\n",
    "          batch_size=32,\n",
    "          epochs=20,\n",
    "          validation_data=(x_test, y_test))"
   ]
  },
  {
   "cell_type": "code",
   "execution_count": 9,
   "metadata": {},
   "outputs": [
    {
     "name": "stdout",
     "output_type": "stream",
     "text": [
      "Base accuracy on regular images: [0.002967956433564763, 0.9823]\n"
     ]
    }
   ],
   "source": [
    "# Assess base model accuracy on regular images\n",
    "print(\"Base accuracy on regular images:\", model.evaluate(x=x_test, y=y_test, verbose=0))"
   ]
  },
  {
   "cell_type": "code",
   "execution_count": 10,
   "metadata": {},
   "outputs": [],
   "source": [
    "# Function to create adversarial pattern\n",
    "def adversarial_pattern(image, label):\n",
    "    image = tf.cast(image, tf.float32)\n",
    "    \n",
    "    with tf.GradientTape() as tape:\n",
    "        tape.watch(image)\n",
    "        prediction = model(image)\n",
    "        loss = tf.keras.losses.MSE(label, prediction)\n",
    "    \n",
    "    gradient = tape.gradient(loss, image)\n",
    "    \n",
    "    signed_grad = tf.sign(gradient)\n",
    "    \n",
    "    return signed_grad"
   ]
  },
  {
   "cell_type": "code",
   "execution_count": 11,
   "metadata": {},
   "outputs": [
    {
     "name": "stdout",
     "output_type": "stream",
     "text": [
      "five\n",
      "three\n"
     ]
    },
    {
     "data": {
      "image/png": "[encoded data removed]",
      "text/plain": [
       "<Figure size 432x288 with 1 Axes>"
      ]
     },
     "metadata": {
      "needs_background": "light"
     },
     "output_type": "display_data"
    }
   ],
   "source": [
    "# Create a signle adversarial example\n",
    "image = x_train[0]\n",
    "image_label = y_train[0]\n",
    "perturbations = adversarial_pattern(image.reshape((1, img_rows, img_cols, channels)), image_label).numpy()\n",
    "adversarial = image + perturbations * 0.1\n",
    "\n",
    "print(labels[model.predict(image.reshape((1, img_rows, img_cols, channels))).argmax()])\n",
    "print(labels[model.predict(adversarial).argmax()])\n",
    "\n",
    "if channels == 1:\n",
    "    plt.imshow(adversarial.reshape((img_rows, img_cols)))\n",
    "else:\n",
    "    plt.imshow(adversarial.reshape((img_rows, img_cols, channels)))\n",
    "plt.show()"
   ]
  },
  {
   "cell_type": "code",
   "execution_count": 12,
   "metadata": {
    "scrolled": false
   },
   "outputs": [],
   "source": [
    "# Adversarial data generator\n",
    "def generate_adversarials(batch_size):\n",
    "    while True:\n",
    "        x = []\n",
    "        y = []\n",
    "        for batch in range(batch_size):\n",
    "            N = random.randint(0, 100)\n",
    "\n",
    "            label = y_train[N]\n",
    "            image = x_train[N]\n",
    "            \n",
    "            perturbations = adversarial_pattern(image.reshape((1, img_rows, img_cols, channels)), label).numpy()\n",
    "            \n",
    "            \n",
    "            epsilon = 0.1\n",
    "            adversarial = image + perturbations * epsilon\n",
    "            \n",
    "            x.append(adversarial)\n",
    "            y.append(y_train[N])\n",
    "        \n",
    "        \n",
    "        x = np.asarray(x).reshape((batch_size, img_rows, img_cols, channels))\n",
    "        y = np.asarray(y)\n",
    "        \n",
    "        yield x, y"
   ]
  },
  {
   "cell_type": "code",
   "execution_count": 13,
   "metadata": {
    "scrolled": false
   },
   "outputs": [
    {
     "name": "stdout",
     "output_type": "stream",
     "text": [
      "Prediction: three Truth: nine\n"
     ]
    },
    {
     "data": {
      "image/png": "[encoded data removed]",
      "text/plain": [
       "<Figure size 432x288 with 1 Axes>"
      ]
     },
     "metadata": {
      "needs_background": "light"
     },
     "output_type": "display_data"
    },
    {
     "name": "stdout",
     "output_type": "stream",
     "text": [
      "Prediction: three Truth: nine\n"
     ]
    },
    {
     "data": {
      "image/png": "[encoded data removed]",
      "text/plain": [
       "<Figure size 432x288 with 1 Axes>"
      ]
     },
     "metadata": {
      "needs_background": "light"
     },
     "output_type": "display_data"
    },
    {
     "name": "stdout",
     "output_type": "stream",
     "text": [
      "Prediction: seven Truth: three\n"
     ]
    },
    {
     "data": {
      "image/png": "[encoded data removed]",
      "text/plain": [
       "<Figure size 432x288 with 1 Axes>"
      ]
     },
     "metadata": {
      "needs_background": "light"
     },
     "output_type": "display_data"
    },
    {
     "name": "stdout",
     "output_type": "stream",
     "text": [
      "Prediction: three Truth: seven\n"
     ]
    },
    {
     "data": {
      "image/png": "[encoded data removed]",
      "text/plain": [
       "<Figure size 432x288 with 1 Axes>"
      ]
     },
     "metadata": {
      "needs_background": "light"
     },
     "output_type": "display_data"
    },
    {
     "name": "stdout",
     "output_type": "stream",
     "text": [
      "Prediction: three Truth: four\n"
     ]
    },
    {
     "data": {
      "image/png": "[encoded data removed]",
      "text/plain": [
       "<Figure size 432x288 with 1 Axes>"
      ]
     },
     "metadata": {
      "needs_background": "light"
     },
     "output_type": "display_data"
    },
    {
     "name": "stdout",
     "output_type": "stream",
     "text": [
      "Prediction: three Truth: nine\n"
     ]
    },
    {
     "data": {
      "image/png": "[encoded data removed]",
      "text/plain": [
       "<Figure size 432x288 with 1 Axes>"
      ]
     },
     "metadata": {
      "needs_background": "light"
     },
     "output_type": "display_data"
    },
    {
     "name": "stdout",
     "output_type": "stream",
     "text": [
      "Prediction: five Truth: five\n"
     ]
    },
    {
     "data": {
      "image/png": "[encoded data removed]",
      "text/plain": [
       "<Figure size 432x288 with 1 Axes>"
      ]
     },
     "metadata": {
      "needs_background": "light"
     },
     "output_type": "display_data"
    },
    {
     "name": "stdout",
     "output_type": "stream",
     "text": [
      "Prediction: four Truth: nine\n"
     ]
    },
    {
     "data": {
      "image/png": "[encoded data removed]",
      "text/plain": [
       "<Figure size 432x288 with 1 Axes>"
      ]
     },
     "metadata": {
      "needs_background": "light"
     },
     "output_type": "display_data"
    },
    {
     "name": "stdout",
     "output_type": "stream",
     "text": [
      "Prediction: nine Truth: four\n"
     ]
    },
    {
     "data": {
      "image/png": "[encoded data removed]",
      "text/plain": [
       "<Figure size 432x288 with 1 Axes>"
      ]
     },
     "metadata": {
      "needs_background": "light"
     },
     "output_type": "display_data"
    },
    {
     "name": "stdout",
     "output_type": "stream",
     "text": [
      "Prediction: nine Truth: zero\n"
     ]
    },
    {
     "data": {
      "image/png": "[encoded data removed]",
      "text/plain": [
       "<Figure size 432x288 with 1 Axes>"
      ]
     },
     "metadata": {
      "needs_background": "light"
     },
     "output_type": "display_data"
    },
    {
     "name": "stdout",
     "output_type": "stream",
     "text": [
      "Prediction: eight Truth: zero\n"
     ]
    },
    {
     "data": {
      "image/png": "[encoded data removed]",
      "text/plain": [
       "<Figure size 432x288 with 1 Axes>"
      ]
     },
     "metadata": {
      "needs_background": "light"
     },
     "output_type": "display_data"
    },
    {
     "name": "stdout",
     "output_type": "stream",
     "text": [
      "Prediction: two Truth: one\n"
     ]
    },
    {
     "data": {
      "image/png": "[encoded data removed]",
      "text/plain": [
       "<Figure size 432x288 with 1 Axes>"
      ]
     },
     "metadata": {
      "needs_background": "light"
     },
     "output_type": "display_data"
    }
   ],
   "source": [
    "# Generate and visualize 12 adversarial images\n",
    "adversarials, correct_labels = next(generate_adversarials(12))\n",
    "for adversarial, correct_label in zip(adversarials, correct_labels):\n",
    "    print('Prediction:', labels[model.predict(adversarial.reshape((1, img_rows, img_cols, channels))).argmax()], 'Truth:', labels[correct_label.argmax()])\n",
    "    if channels == 1:\n",
    "        plt.imshow(adversarial.reshape(img_rows, img_cols))\n",
    "    else:\n",
    "        plt.imshow(adversarial)\n",
    "    plt.show()"
   ]
  },
  {
   "cell_type": "code",
   "execution_count": 14,
   "metadata": {
    "scrolled": true
   },
   "outputs": [],
   "source": [
    "# Generate adversarial data\n",
    "# x_adversarial, y_adversarial = np.load(\"x_adv_10k.npy\"), np.load(\"y_adv_10k.npy\")\n",
    "x_adversarial_train, y_adversarial_train = next(generate_adversarials(20000))\n",
    "x_adversarial_test, y_adversarial_test = next(generate_adversarials(10000))"
   ]
  },
  {
   "cell_type": "code",
   "execution_count": 15,
   "metadata": {},
   "outputs": [
    {
     "name": "stdout",
     "output_type": "stream",
     "text": [
      "Base accuracy on adversarial images: [0.13803682882785798, 0.2012]\n"
     ]
    }
   ],
   "source": [
    "# Assess base model on adversarial data\n",
    "print(\"Base accuracy on adversarial images:\", model.evaluate(x=x_adversarial_test, y=y_adversarial_test, verbose=0))"
   ]
  },
  {
   "cell_type": "code",
   "execution_count": 16,
   "metadata": {},
   "outputs": [
    {
     "name": "stdout",
     "output_type": "stream",
     "text": [
      "Train on 20000 samples, validate on 10000 samples\n",
      "Epoch 1/10\n",
      "20000/20000 [==============================] - 2s 80us/sample - loss: 0.0068 - accuracy: 0.9623 - val_loss: 0.0080 - val_accuracy: 0.9553\n",
      "Epoch 2/10\n",
      "20000/20000 [==============================] - 2s 87us/sample - loss: 0.0021 - accuracy: 0.9891 - val_loss: 0.0093 - val_accuracy: 0.9486\n",
      "Epoch 3/10\n",
      "20000/20000 [==============================] - 2s 89us/sample - loss: 0.0021 - accuracy: 0.9890 - val_loss: 0.0096 - val_accuracy: 0.9477\n",
      "Epoch 4/10\n",
      "20000/20000 [==============================] - 2s 90us/sample - loss: 0.0021 - accuracy: 0.9895 - val_loss: 0.0091 - val_accuracy: 0.9501\n",
      "Epoch 5/10\n",
      "20000/20000 [==============================] - 2s 84us/sample - loss: 0.0015 - accuracy: 0.9925 - val_loss: 0.0096 - val_accuracy: 0.9478\n",
      "Epoch 6/10\n",
      "20000/20000 [==============================] - 2s 82us/sample - loss: 1.9439e-04 - accuracy: 0.9990 - val_loss: 0.0123 - val_accuracy: 0.9329\n",
      "Epoch 7/10\n",
      "20000/20000 [==============================] - 2s 81us/sample - loss: 1.1688e-04 - accuracy: 0.9994 - val_loss: 0.0110 - val_accuracy: 0.9401\n",
      "Epoch 8/10\n",
      "20000/20000 [==============================] - 2s 81us/sample - loss: 1.7400e-04 - accuracy: 0.9990 - val_loss: 0.0116 - val_accuracy: 0.9370\n",
      "Epoch 9/10\n",
      "20000/20000 [==============================] - 2s 80us/sample - loss: 9.4368e-05 - accuracy: 0.9995 - val_loss: 0.0110 - val_accuracy: 0.9397\n",
      "Epoch 10/10\n",
      "20000/20000 [==============================] - 2s 81us/sample - loss: 5.1144e-05 - accuracy: 0.9997 - val_loss: 0.0112 - val_accuracy: 0.9384\n"
     ]
    },
    {
     "data": {
      "text/plain": [
       "<tensorflow.python.keras.callbacks.History at 0x7f906c1b7358>"
      ]
     },
     "execution_count": 16,
     "metadata": {},
     "output_type": "execute_result"
    }
   ],
   "source": [
    "# Learn from adversarial data\n",
    "model.fit(x_adversarial_train, y_adversarial_train,\n",
    "          batch_size=32,\n",
    "          epochs=10,\n",
    "          validation_data=(x_test, y_test))"
   ]
  },
  {
   "cell_type": "code",
   "execution_count": 17,
   "metadata": {},
   "outputs": [
    {
     "name": "stdout",
     "output_type": "stream",
     "text": [
      "Defended accuracy on adversarial images: [3.020054845218167e-25, 1.0]\n",
      "Defended accuracy on regular images: [0.011241577985890636, 0.9384]\n"
     ]
    }
   ],
   "source": [
    "# Assess defended model on adversarial data\n",
    "print(\"Defended accuracy on adversarial images:\", model.evaluate(x=x_adversarial_test, y=y_adversarial_test, verbose=0))\n",
    "\n",
    "# Assess defended model on regular data\n",
    "print(\"Defended accuracy on regular images:\", model.evaluate(x=x_test, y=y_test, verbose=0))"
   ]
  },
  {
   "cell_type": "code",
   "execution_count": 18,
   "metadata": {},
   "outputs": [
    {
     "name": "stdout",
     "output_type": "stream",
     "text": [
      "Defended accuracy on adversarial images: [0.05324754492491484, 0.7229]\n"
     ]
    }
   ],
   "source": [
    "x_adversarial_test, y_adversarial_test = next(generate_adversarials(10000))\n",
    "print(\"Defended accuracy on adversarial images:\", model.evaluate(x=x_adversarial_test, y=y_adversarial_test, verbose=0))"
   ]
  }
 ],
 "metadata": {
  "kernelspec": {
   "display_name": "Python 3",
   "language": "python",
   "name": "python3"
  },
  "language_info": {
   "codemirror_mode": {
    "name": "ipython",
    "version": 3
   },
   "file_extension": ".py",
   "mimetype": "text/x-python",
   "name": "python",
   "nbconvert_exporter": "python",
   "pygments_lexer": "ipython3",
   "version": "3.7.3"
  }
 },
 "nbformat": 4,
 "nbformat_minor": 2
}
